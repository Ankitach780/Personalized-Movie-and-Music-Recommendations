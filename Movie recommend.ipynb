{
 "cells": [
  {
   "cell_type": "code",
   "execution_count": null,
   "id": "d8216db6",
   "metadata": {},
   "outputs": [],
   "source": [
    "import pandas as pd\n",
    "import numpy as np\n",
    "import matplotlib.pyplot as plt\n",
    "import seaborn as sns\n",
    "import warnings\n"
   ]
  },
  {
   "cell_type": "code",
   "execution_count": null,
   "id": "0c00e6c6",
   "metadata": {},
   "outputs": [],
   "source": [
    "df=pd.read_csv(\"movies.csv\")\n",
    "df.head(10)"
   ]
  },
  {
   "cell_type": "code",
   "execution_count": null,
   "id": "7bf54f9e",
   "metadata": {},
   "outputs": [],
   "source": [
    "df['Genre'].unique()"
   ]
  },
  {
   "cell_type": "code",
   "execution_count": null,
   "id": "610d49bd",
   "metadata": {},
   "outputs": [],
   "source": [
    "df.describe()"
   ]
  },
  {
   "cell_type": "code",
   "execution_count": null,
   "id": "145cbdfe",
   "metadata": {},
   "outputs": [],
   "source": [
    "df.drop(columns=['User_ID'],axis=1,inplace=True)"
   ]
  },
  {
   "cell_type": "code",
   "execution_count": null,
   "id": "8aaab4e3",
   "metadata": {},
   "outputs": [],
   "source": [
    "df.info()"
   ]
  },
  {
   "cell_type": "code",
   "execution_count": null,
   "id": "99fb94e7",
   "metadata": {},
   "outputs": [],
   "source": [
    "df.isna().sum()"
   ]
  },
  {
   "cell_type": "code",
   "execution_count": null,
   "id": "7cd94c3e",
   "metadata": {},
   "outputs": [],
   "source": [
    "df['Genre'].unique()"
   ]
  },
  {
   "cell_type": "code",
   "execution_count": null,
   "id": "e82aa608",
   "metadata": {},
   "outputs": [],
   "source": [
    "emotion_to_genre = {\n",
    "    'Sad': 'Drama',\n",
    "    'Disguist': 'Crime',\n",
    "    'Anger': 'Action',\n",
    "    'Happy': 'Comedy',\n",
    "    'Neutral': 'Family',\n",
    "    'Surprise': 'Fantasy',\n",
    "    'Fear': 'Horror',\n",
    "}\n",
    "def recommend(Emotion):\n",
    "    genre=emotion_to_genre.get(Emotion)\n",
    "\n",
    "    if genre:\n",
    "        filter=df[df['Genre'].str.contains(genre,case=False,na=False)]\n",
    "        if not filter.empty:\n",
    "            top_movies=filter.iloc[:5]['Movie_Name']\n",
    "            print(\"\\n\".join(top_movies))\n",
    "        else:\n",
    "            print(f\"No movie found for the genre: {genre}\")\n",
    "    else:\n",
    "        print(f\"No genre found for the emotion:{Emotion}\")\n",
    "\n",
    "recommend('Happy')"
   ]
  },
  {
   "cell_type": "code",
   "execution_count": null,
   "id": "673c8f55",
   "metadata": {},
   "outputs": [],
   "source": [
    "import joblib\n",
    "joblib.dump(df,open('movie.pkl','wb'))"
   ]
  },
  {
   "cell_type": "code",
   "execution_count": null,
   "id": "f2767599",
   "metadata": {},
   "outputs": [],
   "source": []
  }
 ],
 "metadata": {
  "kernelspec": {
   "display_name": "Python 3 (ipykernel)",
   "language": "python",
   "name": "python3"
  },
  "language_info": {
   "codemirror_mode": {
    "name": "ipython",
    "version": 3
   },
   "file_extension": ".py",
   "mimetype": "text/x-python",
   "name": "python",
   "nbconvert_exporter": "python",
   "pygments_lexer": "ipython3",
   "version": "3.9.12"
  }
 },
 "nbformat": 4,
 "nbformat_minor": 5
}

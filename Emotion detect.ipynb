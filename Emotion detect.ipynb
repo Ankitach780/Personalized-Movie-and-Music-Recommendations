{
 "cells": [
  {
   "cell_type": "code",
   "execution_count": null,
   "id": "4bbb0d4c",
   "metadata": {},
   "outputs": [],
   "source": [
    "import pandas as pd\n",
    "import numpy as np\n",
    "import matplotlib.pyplot as plt\n",
    "import warnings\n",
    "warnings.filterwarnings(\"ignore\")"
   ]
  },
  {
   "cell_type": "code",
   "execution_count": null,
   "id": "9062a5ef",
   "metadata": {},
   "outputs": [],
   "source": [
    "import os\n",
    "dir = 'emotion'\n",
    "filepaths = []\n",
    "labels = []\n",
    "\n",
    "folds = os.listdir(dir)\n",
    "for fold in folds:\n",
    "    foldpath = os.path.join(dir, fold)\n",
    "    filelist = os.listdir(foldpath)\n",
    "    for file in filelist:\n",
    "        fpath = os.path.join(foldpath, file)\n",
    "        filepaths.append(fpath)\n",
    "        labels.append(fold)\n",
    "\n",
    "Fseries = pd.Series(filepaths, name= 'image')\n",
    "Lseries = pd.Series(labels, name='labels')\n",
    "df = pd.concat([Fseries, Lseries], axis= 1)"
   ]
  },
  {
   "cell_type": "code",
   "execution_count": null,
   "id": "90f41391",
   "metadata": {},
   "outputs": [],
   "source": [
    "df.head()"
   ]
  },
  {
   "cell_type": "code",
   "execution_count": null,
   "id": "ed1ce135",
   "metadata": {},
   "outputs": [],
   "source": [
    "import matplotlib.image as mpimg\n",
    "\n",
    "img_path = filepaths[25]\n",
    "img = mpimg.imread(img_path)\n",
    "plt.figure(figsize=(4, 4))\n",
    "plt.imshow(img)\n",
    "plt.axis('off') \n",
    "label = labels[25]\n",
    "plt.title(f'Label: {label}')\n",
    "plt.show()"
   ]
  },
  {
   "cell_type": "code",
   "execution_count": null,
   "id": "4fe8683d",
   "metadata": {},
   "outputs": [],
   "source": [
    "from sklearn.model_selection import train_test_split\n",
    "train_df, test_df = train_test_split(df,  train_size= 0.6, shuffle= True, random_state= 1)"
   ]
  },
  {
   "cell_type": "code",
   "execution_count": null,
   "id": "d7bc3ac6",
   "metadata": {},
   "outputs": [],
   "source": [
    "train_df.shape"
   ]
  },
  {
   "cell_type": "code",
   "execution_count": null,
   "id": "74232d4e",
   "metadata": {},
   "outputs": [],
   "source": [
    "test_df"
   ]
  },
  {
   "cell_type": "code",
   "execution_count": null,
   "id": "9cf849d7",
   "metadata": {},
   "outputs": [],
   "source": [
    "from keras.models import Sequential\n",
    "from keras.layers import Conv2D, MaxPooling2D, Dense, Dropout, Flatten \n",
    "from tensorflow.keras.preprocessing.image import load_img\n",
    "from keras.utils import to_categorical\n"
   ]
  },
  {
   "cell_type": "code",
   "execution_count": null,
   "id": "56d1e454",
   "metadata": {},
   "outputs": [],
   "source": [
    "from tqdm.notebook import tqdm\n",
    "def extract(images):\n",
    "    fet=[]\n",
    "    for image in tqdm(images):\n",
    "        img=load_img(image,color_mode='grayscale',target_size=(64,64))\n",
    "        img=np.array(img)\n",
    "        fet.append(img)\n",
    "    fet=np.array(fet)\n",
    "    features=fet.reshape(len(fet),64,64,1)\n",
    "    \n",
    "    return features"
   ]
  },
  {
   "cell_type": "code",
   "execution_count": null,
   "id": "2510ee27",
   "metadata": {},
   "outputs": [],
   "source": [
    "image_path= \"emotion\\\\Neutral\\\\imgres.html\"\n",
    "test_df = test_df[test_df['image'] != image_path]\n",
    "test_df = test_df.reset_index(drop=True)\n"
   ]
  },
  {
   "cell_type": "code",
   "execution_count": null,
   "id": "659bee52",
   "metadata": {},
   "outputs": [],
   "source": [
    "train=extract(train_df['image'])"
   ]
  },
  {
   "cell_type": "code",
   "execution_count": null,
   "id": "745889b7",
   "metadata": {},
   "outputs": [],
   "source": [
    "test=extract(test_df['image'])"
   ]
  },
  {
   "cell_type": "code",
   "execution_count": null,
   "id": "db3ccf37",
   "metadata": {},
   "outputs": [],
   "source": [
    "train=train/255.0\n",
    "test=test/255.0"
   ]
  },
  {
   "cell_type": "code",
   "execution_count": null,
   "id": "6b672e42",
   "metadata": {},
   "outputs": [],
   "source": [
    "from sklearn.preprocessing import LabelEncoder\n",
    "le=LabelEncoder()\n",
    "le.fit(train_df['labels'])"
   ]
  },
  {
   "cell_type": "code",
   "execution_count": null,
   "id": "31be38cf",
   "metadata": {},
   "outputs": [],
   "source": [
    "y_train=le.transform(train_df['labels'])\n",
    "y_test=le.transform(test_df['labels'])"
   ]
  },
  {
   "cell_type": "code",
   "execution_count": null,
   "id": "1b8013f7",
   "metadata": {},
   "outputs": [],
   "source": [
    "y_train=to_categorical(y_train,num_classes=7)\n",
    "y_test=to_categorical(y_test,num_classes=7)"
   ]
  },
  {
   "cell_type": "code",
   "execution_count": null,
   "id": "ad80e6ad",
   "metadata": {},
   "outputs": [],
   "source": [
    "test.shape"
   ]
  },
  {
   "cell_type": "code",
   "execution_count": null,
   "id": "4eab6b06",
   "metadata": {},
   "outputs": [],
   "source": [
    "train.shape"
   ]
  },
  {
   "cell_type": "code",
   "execution_count": null,
   "id": "373036cd",
   "metadata": {},
   "outputs": [],
   "source": [
    "model=Sequential()\n",
    "model.add(Conv2D(128,kernel_size=(3,3),activation='relu',input_shape=(64,64,1)))\n",
    "model.add(MaxPooling2D(pool_size=(2,2)))\n",
    "model.add(Dropout(0.4))\n",
    "\n",
    "model.add(Conv2D(256,kernel_size=(3,3),activation='relu'))\n",
    "model.add(MaxPooling2D(pool_size=(2,2)))\n",
    "model.add(Dropout(0.4))\n",
    "\n",
    "model.add(Conv2D(512,kernel_size=(3,3),activation='relu'))\n",
    "model.add(MaxPooling2D(pool_size=(2,2)))\n",
    "model.add(Dropout(0.4))\n",
    "\n",
    "model.add(Conv2D(512,kernel_size=(3,3),activation='relu'))\n",
    "model.add(MaxPooling2D(pool_size=(2,2)))\n",
    "model.add(Dropout(0.4))\n",
    "\n",
    "model.add(Flatten())\n",
    "model.add(Dense(512,activation='relu'))\n",
    "model.add(Dropout(0.4))\n",
    "model.add(Dense(256,activation='relu'))\n",
    "model.add(Dropout(0.3))\n",
    "model.add(Dense(7,activation='softmax'))"
   ]
  },
  {
   "cell_type": "code",
   "execution_count": null,
   "id": "9835a490",
   "metadata": {},
   "outputs": [],
   "source": [
    "model.compile(optimizer='adam',loss='categorical_crossentropy',metrics=['accuracy'])"
   ]
  },
  {
   "cell_type": "code",
   "execution_count": null,
   "id": "f3f3a049",
   "metadata": {},
   "outputs": [],
   "source": [
    "model.fit(x=train,y=y_train,batch_size=128,epochs=120,validation_data=(test,y_test))"
   ]
  },
  {
   "cell_type": "code",
   "execution_count": null,
   "id": "72cdd362",
   "metadata": {},
   "outputs": [],
   "source": [
    "model_json=model.to_json()\n",
    "with open(\"emotiondet.json\",\"w\") as json_file:\n",
    "    json_file.write(model_json)\n",
    "model.save(\"emotiondet.h5\")"
   ]
  },
  {
   "cell_type": "code",
   "execution_count": null,
   "id": "fa6974a8",
   "metadata": {},
   "outputs": [],
   "source": [
    "from keras.models import model_from_json\n",
    "json_file=open(\"emotiondet.json\",\"r\")\n",
    "model_json=json_file.read()\n",
    "json_file.close()\n",
    "model=model_from_json(model_json)\n",
    "model.load_weights(\"emotiondet.h5\")"
   ]
  },
  {
   "cell_type": "code",
   "execution_count": null,
   "id": "a36adf96",
   "metadata": {},
   "outputs": [],
   "source": [
    "labels=['Angry','Disguist','Fear','Happy','Neutral','Sad','Surprise']"
   ]
  },
  {
   "cell_type": "code",
   "execution_count": null,
   "id": "86fb3173",
   "metadata": {},
   "outputs": [],
   "source": [
    "def check(image):\n",
    "    img=load_img(image,color_mode='grayscale',target_size=(64,64))\n",
    "    feature=np.array(img)\n",
    "    feature=feature.reshape(1,64,64,1)\n",
    "    return feature/255.0"
   ]
  },
  {
   "cell_type": "code",
   "execution_count": null,
   "id": "59d837e6",
   "metadata": {},
   "outputs": [],
   "source": [
    "image=\"emotion/Angry/download (5).jpg\"\n",
    "print(\"original image is of Angry\")\n",
    "img=check(image)\n",
    "pred=model.predict(img)\n",
    "pred_label=labels[pred.argmax()]\n",
    "print(\"model prediction is \",pred_label)\n",
    "plt.imshow(img.reshape(64,64),cmap='gray')"
   ]
  },
  {
   "cell_type": "code",
   "execution_count": null,
   "id": "f61eeb81",
   "metadata": {},
   "outputs": [],
   "source": [
    "image=\"emotion/Fear/download (2).jpg\"\n",
    "print(\"original image is of Fear\")\n",
    "img=check(image)\n",
    "pred=model.predict(img)\n",
    "pred_label=labels[pred.argmax()]\n",
    "print(\"model prediction is \",pred_label)\n",
    "plt.imshow(img.reshape(64,64),cmap='gray')"
   ]
  },
  {
   "cell_type": "code",
   "execution_count": null,
   "id": "21ff14ef",
   "metadata": {},
   "outputs": [],
   "source": []
  }
 ],
 "metadata": {
  "kernelspec": {
   "display_name": "Python 3 (ipykernel)",
   "language": "python",
   "name": "python3"
  },
  "language_info": {
   "codemirror_mode": {
    "name": "ipython",
    "version": 3
   },
   "file_extension": ".py",
   "mimetype": "text/x-python",
   "name": "python",
   "nbconvert_exporter": "python",
   "pygments_lexer": "ipython3",
   "version": "3.9.12"
  }
 },
 "nbformat": 4,
 "nbformat_minor": 5
}
